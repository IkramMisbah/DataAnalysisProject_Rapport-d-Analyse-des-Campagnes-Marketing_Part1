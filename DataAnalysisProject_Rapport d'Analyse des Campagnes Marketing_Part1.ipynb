{
 "cells": [
  {
   "cell_type": "code",
   "execution_count": 3,
   "metadata": {},
   "outputs": [
    {
     "name": "stderr",
     "output_type": "stream",
     "text": [
      "C:\\Users\\user\\anaconda3\\lib\\site-packages\\IPython\\core\\interactiveshell.py:3063: DtypeWarning: Columns (3) have mixed types.Specify dtype option on import or set low_memory=False.\n",
      "  interactivity=interactivity, compiler=compiler, result=result)\n"
     ]
    }
   ],
   "source": [
    "import pandas as pd\n",
    "df=pd.read_csv('Order_Data_P1.csv')"
   ]
  },
  {
   "cell_type": "code",
   "execution_count": 4,
   "metadata": {},
   "outputs": [
    {
     "data": {
      "text/html": [
       "<div>\n",
       "<style scoped>\n",
       "    .dataframe tbody tr th:only-of-type {\n",
       "        vertical-align: middle;\n",
       "    }\n",
       "\n",
       "    .dataframe tbody tr th {\n",
       "        vertical-align: top;\n",
       "    }\n",
       "\n",
       "    .dataframe thead th {\n",
       "        text-align: right;\n",
       "    }\n",
       "</style>\n",
       "<table border=\"1\" class=\"dataframe\">\n",
       "  <thead>\n",
       "    <tr style=\"text-align: right;\">\n",
       "      <th></th>\n",
       "      <th>OrderID</th>\n",
       "      <th>Region</th>\n",
       "      <th>Country</th>\n",
       "      <th>CustID</th>\n",
       "      <th>Customer_Name</th>\n",
       "      <th>ProductSKU</th>\n",
       "      <th>Product_Category</th>\n",
       "      <th>OrderLineItem</th>\n",
       "      <th>OrderQuantity</th>\n",
       "      <th>ProductCost</th>\n",
       "      <th>ProductPrice</th>\n",
       "      <th>OrderDate</th>\n",
       "      <th>AcquisitionSource</th>\n",
       "      <th>TransactionID</th>\n",
       "      <th>Fraud</th>\n",
       "      <th>PaymentMethod</th>\n",
       "      <th>CardType</th>\n",
       "      <th>Gender</th>\n",
       "    </tr>\n",
       "  </thead>\n",
       "  <tbody>\n",
       "    <tr>\n",
       "      <th>0</th>\n",
       "      <td>SO45080</td>\n",
       "      <td>Northwest</td>\n",
       "      <td>United States</td>\n",
       "      <td>14657</td>\n",
       "      <td>JOHN THOMAS</td>\n",
       "      <td>BK-R50B-58</td>\n",
       "      <td>Plants</td>\n",
       "      <td>1</td>\n",
       "      <td>1.0</td>\n",
       "      <td>413.1463</td>\n",
       "      <td>699.0982</td>\n",
       "      <td>2020-01-01</td>\n",
       "      <td>Meta-ads</td>\n",
       "      <td>I4127227587819694</td>\n",
       "      <td>False</td>\n",
       "      <td>CREDITCARD</td>\n",
       "      <td>DISCOVER</td>\n",
       "      <td>M</td>\n",
       "    </tr>\n",
       "    <tr>\n",
       "      <th>1</th>\n",
       "      <td>SO45079</td>\n",
       "      <td>Southwest</td>\n",
       "      <td>United States</td>\n",
       "      <td>29255</td>\n",
       "      <td>KYLE WASHINGTON</td>\n",
       "      <td>BK-R93R-48</td>\n",
       "      <td>Plants</td>\n",
       "      <td>1</td>\n",
       "      <td>1.0</td>\n",
       "      <td>2171.2942</td>\n",
       "      <td>3578.2700</td>\n",
       "      <td>2020-01-01</td>\n",
       "      <td>Google-ads</td>\n",
       "      <td>E9525730529761877</td>\n",
       "      <td>False</td>\n",
       "      <td>CREDITCARD</td>\n",
       "      <td>MC</td>\n",
       "      <td>M</td>\n",
       "    </tr>\n",
       "    <tr>\n",
       "      <th>2</th>\n",
       "      <td>SO45082</td>\n",
       "      <td>Australia</td>\n",
       "      <td>Australia</td>\n",
       "      <td>11455</td>\n",
       "      <td>ROSS SANZ</td>\n",
       "      <td>BK-M82B-44</td>\n",
       "      <td>Plants</td>\n",
       "      <td>1</td>\n",
       "      <td>1.0</td>\n",
       "      <td>1898.0944</td>\n",
       "      <td>3374.9900</td>\n",
       "      <td>2020-01-01</td>\n",
       "      <td>Google-ads</td>\n",
       "      <td>Z6376643485803420</td>\n",
       "      <td>False</td>\n",
       "      <td>CREDITCARD</td>\n",
       "      <td>VISA</td>\n",
       "      <td>M</td>\n",
       "    </tr>\n",
       "    <tr>\n",
       "      <th>3</th>\n",
       "      <td>SO45081</td>\n",
       "      <td>Canada</td>\n",
       "      <td>Canada</td>\n",
       "      <td>26782</td>\n",
       "      <td>SETH LEWIS</td>\n",
       "      <td>BK-R50B-44</td>\n",
       "      <td>Plants</td>\n",
       "      <td>1</td>\n",
       "      <td>1.0</td>\n",
       "      <td>413.1463</td>\n",
       "      <td>699.0982</td>\n",
       "      <td>2020-01-01</td>\n",
       "      <td>Google-ads</td>\n",
       "      <td>R8609290025411138</td>\n",
       "      <td>False</td>\n",
       "      <td>CREDITCARD</td>\n",
       "      <td>VISA</td>\n",
       "      <td>M</td>\n",
       "    </tr>\n",
       "    <tr>\n",
       "      <th>4</th>\n",
       "      <td>SO45083</td>\n",
       "      <td>United Kingdom</td>\n",
       "      <td>United Kingdom</td>\n",
       "      <td>14947</td>\n",
       "      <td>ALEJANDRO CHEN</td>\n",
       "      <td>BK-R93R-48</td>\n",
       "      <td>Plants</td>\n",
       "      <td>1</td>\n",
       "      <td>1.0</td>\n",
       "      <td>2171.2942</td>\n",
       "      <td>3578.2700</td>\n",
       "      <td>2020-02-01</td>\n",
       "      <td>Meta-ads</td>\n",
       "      <td>Y9572700698484288</td>\n",
       "      <td>False</td>\n",
       "      <td>CREDITCARD</td>\n",
       "      <td>VISA</td>\n",
       "      <td>M</td>\n",
       "    </tr>\n",
       "  </tbody>\n",
       "</table>\n",
       "</div>"
      ],
      "text/plain": [
       "   OrderID          Region         Country CustID    Customer_Name  \\\n",
       "0  SO45080       Northwest   United States  14657      JOHN THOMAS   \n",
       "1  SO45079       Southwest   United States  29255  KYLE WASHINGTON   \n",
       "2  SO45082       Australia       Australia  11455        ROSS SANZ   \n",
       "3  SO45081          Canada          Canada  26782       SETH LEWIS   \n",
       "4  SO45083  United Kingdom  United Kingdom  14947   ALEJANDRO CHEN   \n",
       "\n",
       "   ProductSKU Product_Category  OrderLineItem  OrderQuantity  ProductCost  \\\n",
       "0  BK-R50B-58           Plants              1            1.0     413.1463   \n",
       "1  BK-R93R-48           Plants              1            1.0    2171.2942   \n",
       "2  BK-M82B-44           Plants              1            1.0    1898.0944   \n",
       "3  BK-R50B-44           Plants              1            1.0     413.1463   \n",
       "4  BK-R93R-48           Plants              1            1.0    2171.2942   \n",
       "\n",
       "   ProductPrice   OrderDate AcquisitionSource      TransactionID  Fraud  \\\n",
       "0      699.0982  2020-01-01          Meta-ads  I4127227587819694  False   \n",
       "1     3578.2700  2020-01-01        Google-ads  E9525730529761877  False   \n",
       "2     3374.9900  2020-01-01        Google-ads  Z6376643485803420  False   \n",
       "3      699.0982  2020-01-01        Google-ads  R8609290025411138  False   \n",
       "4     3578.2700  2020-02-01          Meta-ads  Y9572700698484288  False   \n",
       "\n",
       "  PaymentMethod  CardType Gender  \n",
       "0    CREDITCARD  DISCOVER      M  \n",
       "1    CREDITCARD        MC      M  \n",
       "2    CREDITCARD      VISA      M  \n",
       "3    CREDITCARD      VISA      M  \n",
       "4    CREDITCARD      VISA      M  "
      ]
     },
     "execution_count": 4,
     "metadata": {},
     "output_type": "execute_result"
    }
   ],
   "source": [
    "df.head()"
   ]
  },
  {
   "cell_type": "code",
   "execution_count": 5,
   "metadata": {},
   "outputs": [
    {
     "data": {
      "text/plain": [
       "OrderID              0\n",
       "Region               0\n",
       "Country              0\n",
       "CustID               0\n",
       "Customer_Name        0\n",
       "ProductSKU           0\n",
       "Product_Category     0\n",
       "OrderLineItem        0\n",
       "OrderQuantity        0\n",
       "ProductCost          0\n",
       "ProductPrice         0\n",
       "OrderDate            0\n",
       "AcquisitionSource    0\n",
       "TransactionID        0\n",
       "Fraud                0\n",
       "PaymentMethod        0\n",
       "CardType             0\n",
       "Gender               0\n",
       "dtype: int64"
      ]
     },
     "execution_count": 5,
     "metadata": {},
     "output_type": "execute_result"
    }
   ],
   "source": [
    "df.isnull().sum()"
   ]
  },
  {
   "cell_type": "code",
   "execution_count": 6,
   "metadata": {},
   "outputs": [
    {
     "data": {
      "text/plain": [
       "0"
      ]
     },
     "execution_count": 6,
     "metadata": {},
     "output_type": "execute_result"
    }
   ],
   "source": [
    "df.duplicated().sum()"
   ]
  },
  {
   "cell_type": "code",
   "execution_count": 7,
   "metadata": {},
   "outputs": [
    {
     "data": {
      "text/plain": [
       "OrderID               object\n",
       "Region                object\n",
       "Country               object\n",
       "CustID                object\n",
       "Customer_Name         object\n",
       "ProductSKU            object\n",
       "Product_Category      object\n",
       "OrderLineItem          int64\n",
       "OrderQuantity        float64\n",
       "ProductCost          float64\n",
       "ProductPrice         float64\n",
       "OrderDate             object\n",
       "AcquisitionSource     object\n",
       "TransactionID         object\n",
       "Fraud                   bool\n",
       "PaymentMethod         object\n",
       "CardType              object\n",
       "Gender                object\n",
       "dtype: object"
      ]
     },
     "execution_count": 7,
     "metadata": {},
     "output_type": "execute_result"
    }
   ],
   "source": [
    "df.dtypes"
   ]
  },
  {
   "cell_type": "code",
   "execution_count": 10,
   "metadata": {},
   "outputs": [],
   "source": [
    "df['OrderDate']=pd.to_datetime(df['OrderDate'],errors='coerce')"
   ]
  },
  {
   "cell_type": "code",
   "execution_count": 11,
   "metadata": {},
   "outputs": [
    {
     "data": {
      "text/plain": [
       "OrderID                      object\n",
       "Region                       object\n",
       "Country                      object\n",
       "CustID                       object\n",
       "Customer_Name                object\n",
       "ProductSKU                   object\n",
       "Product_Category             object\n",
       "OrderLineItem                 int64\n",
       "OrderQuantity               float64\n",
       "ProductCost                 float64\n",
       "ProductPrice                float64\n",
       "OrderDate            datetime64[ns]\n",
       "AcquisitionSource            object\n",
       "TransactionID                object\n",
       "Fraud                          bool\n",
       "PaymentMethod                object\n",
       "CardType                     object\n",
       "Gender                       object\n",
       "dtype: object"
      ]
     },
     "execution_count": 11,
     "metadata": {},
     "output_type": "execute_result"
    }
   ],
   "source": [
    "df.dtypes"
   ]
  },
  {
   "cell_type": "code",
   "execution_count": 8,
   "metadata": {},
   "outputs": [
    {
     "data": {
      "text/html": [
       "<div>\n",
       "<style scoped>\n",
       "    .dataframe tbody tr th:only-of-type {\n",
       "        vertical-align: middle;\n",
       "    }\n",
       "\n",
       "    .dataframe tbody tr th {\n",
       "        vertical-align: top;\n",
       "    }\n",
       "\n",
       "    .dataframe thead th {\n",
       "        text-align: right;\n",
       "    }\n",
       "</style>\n",
       "<table border=\"1\" class=\"dataframe\">\n",
       "  <thead>\n",
       "    <tr style=\"text-align: right;\">\n",
       "      <th></th>\n",
       "      <th>OrderID</th>\n",
       "      <th>Region</th>\n",
       "      <th>Country</th>\n",
       "      <th>CustID</th>\n",
       "      <th>Customer_Name</th>\n",
       "      <th>ProductSKU</th>\n",
       "      <th>Product_Category</th>\n",
       "      <th>OrderLineItem</th>\n",
       "      <th>OrderQuantity</th>\n",
       "      <th>ProductCost</th>\n",
       "      <th>ProductPrice</th>\n",
       "      <th>OrderDate</th>\n",
       "      <th>AcquisitionSource</th>\n",
       "      <th>TransactionID</th>\n",
       "      <th>Fraud</th>\n",
       "      <th>PaymentMethod</th>\n",
       "      <th>CardType</th>\n",
       "      <th>Gender</th>\n",
       "    </tr>\n",
       "  </thead>\n",
       "  <tbody>\n",
       "    <tr>\n",
       "      <th>0</th>\n",
       "      <td>SO45080</td>\n",
       "      <td>Northwest</td>\n",
       "      <td>United States</td>\n",
       "      <td>14657</td>\n",
       "      <td>JOHN THOMAS</td>\n",
       "      <td>BK-R50B-58</td>\n",
       "      <td>Plants</td>\n",
       "      <td>1</td>\n",
       "      <td>1.0</td>\n",
       "      <td>413.1463</td>\n",
       "      <td>699.0982</td>\n",
       "      <td>2020-01-01</td>\n",
       "      <td>Meta-ads</td>\n",
       "      <td>I4127227587819694</td>\n",
       "      <td>False</td>\n",
       "      <td>CREDITCARD</td>\n",
       "      <td>DISCOVER</td>\n",
       "      <td>M</td>\n",
       "    </tr>\n",
       "    <tr>\n",
       "      <th>1</th>\n",
       "      <td>SO45079</td>\n",
       "      <td>Southwest</td>\n",
       "      <td>United States</td>\n",
       "      <td>29255</td>\n",
       "      <td>KYLE WASHINGTON</td>\n",
       "      <td>BK-R93R-48</td>\n",
       "      <td>Plants</td>\n",
       "      <td>1</td>\n",
       "      <td>1.0</td>\n",
       "      <td>2171.2942</td>\n",
       "      <td>3578.2700</td>\n",
       "      <td>2020-01-01</td>\n",
       "      <td>Google-ads</td>\n",
       "      <td>E9525730529761877</td>\n",
       "      <td>False</td>\n",
       "      <td>CREDITCARD</td>\n",
       "      <td>MC</td>\n",
       "      <td>M</td>\n",
       "    </tr>\n",
       "    <tr>\n",
       "      <th>2</th>\n",
       "      <td>SO45082</td>\n",
       "      <td>Australia</td>\n",
       "      <td>Australia</td>\n",
       "      <td>11455</td>\n",
       "      <td>ROSS SANZ</td>\n",
       "      <td>BK-M82B-44</td>\n",
       "      <td>Plants</td>\n",
       "      <td>1</td>\n",
       "      <td>1.0</td>\n",
       "      <td>1898.0944</td>\n",
       "      <td>3374.9900</td>\n",
       "      <td>2020-01-01</td>\n",
       "      <td>Google-ads</td>\n",
       "      <td>Z6376643485803420</td>\n",
       "      <td>False</td>\n",
       "      <td>CREDITCARD</td>\n",
       "      <td>VISA</td>\n",
       "      <td>M</td>\n",
       "    </tr>\n",
       "    <tr>\n",
       "      <th>3</th>\n",
       "      <td>SO45081</td>\n",
       "      <td>Canada</td>\n",
       "      <td>Canada</td>\n",
       "      <td>26782</td>\n",
       "      <td>SETH LEWIS</td>\n",
       "      <td>BK-R50B-44</td>\n",
       "      <td>Plants</td>\n",
       "      <td>1</td>\n",
       "      <td>1.0</td>\n",
       "      <td>413.1463</td>\n",
       "      <td>699.0982</td>\n",
       "      <td>2020-01-01</td>\n",
       "      <td>Google-ads</td>\n",
       "      <td>R8609290025411138</td>\n",
       "      <td>False</td>\n",
       "      <td>CREDITCARD</td>\n",
       "      <td>VISA</td>\n",
       "      <td>M</td>\n",
       "    </tr>\n",
       "    <tr>\n",
       "      <th>4</th>\n",
       "      <td>SO45083</td>\n",
       "      <td>United Kingdom</td>\n",
       "      <td>United Kingdom</td>\n",
       "      <td>14947</td>\n",
       "      <td>ALEJANDRO CHEN</td>\n",
       "      <td>BK-R93R-48</td>\n",
       "      <td>Plants</td>\n",
       "      <td>1</td>\n",
       "      <td>1.0</td>\n",
       "      <td>2171.2942</td>\n",
       "      <td>3578.2700</td>\n",
       "      <td>2020-02-01</td>\n",
       "      <td>Meta-ads</td>\n",
       "      <td>Y9572700698484288</td>\n",
       "      <td>False</td>\n",
       "      <td>CREDITCARD</td>\n",
       "      <td>VISA</td>\n",
       "      <td>M</td>\n",
       "    </tr>\n",
       "    <tr>\n",
       "      <th>5</th>\n",
       "      <td>SO45084</td>\n",
       "      <td>Southwest</td>\n",
       "      <td>United States</td>\n",
       "      <td>29143</td>\n",
       "      <td>GRACE JENKINS</td>\n",
       "      <td>BK-R93R-62</td>\n",
       "      <td>Plants</td>\n",
       "      <td>1</td>\n",
       "      <td>1.0</td>\n",
       "      <td>2171.2942</td>\n",
       "      <td>3578.2700</td>\n",
       "      <td>2020-02-01</td>\n",
       "      <td>Yt-Campaign</td>\n",
       "      <td>W9847720367646182</td>\n",
       "      <td>False</td>\n",
       "      <td>CREDITCARD</td>\n",
       "      <td>MC</td>\n",
       "      <td>M</td>\n",
       "    </tr>\n",
       "    <tr>\n",
       "      <th>6</th>\n",
       "      <td>SO45086</td>\n",
       "      <td>Australia</td>\n",
       "      <td>Australia</td>\n",
       "      <td>18747</td>\n",
       "      <td>JACQUELYN DIAZ</td>\n",
       "      <td>BK-R93R-56</td>\n",
       "      <td>Plants</td>\n",
       "      <td>1</td>\n",
       "      <td>1.0</td>\n",
       "      <td>2171.2942</td>\n",
       "      <td>3578.2700</td>\n",
       "      <td>2020-02-01</td>\n",
       "      <td>Google-ads</td>\n",
       "      <td>U5867366267578316</td>\n",
       "      <td>False</td>\n",
       "      <td>CREDITCARD</td>\n",
       "      <td>VISA</td>\n",
       "      <td>M</td>\n",
       "    </tr>\n",
       "    <tr>\n",
       "      <th>7</th>\n",
       "      <td>SO45085</td>\n",
       "      <td>Australia</td>\n",
       "      <td>Australia</td>\n",
       "      <td>18746</td>\n",
       "      <td>REGINALD ALVAREZ</td>\n",
       "      <td>BK-R93R-48</td>\n",
       "      <td>Plants</td>\n",
       "      <td>1</td>\n",
       "      <td>1.0</td>\n",
       "      <td>2171.2942</td>\n",
       "      <td>3578.2700</td>\n",
       "      <td>2020-02-01</td>\n",
       "      <td>Google-ads</td>\n",
       "      <td>K2049522469066731</td>\n",
       "      <td>False</td>\n",
       "      <td>CREDITCARD</td>\n",
       "      <td>MC</td>\n",
       "      <td>M</td>\n",
       "    </tr>\n",
       "    <tr>\n",
       "      <th>8</th>\n",
       "      <td>SO45093</td>\n",
       "      <td>Australia</td>\n",
       "      <td>Australia</td>\n",
       "      <td>18906</td>\n",
       "      <td>ADRIENNE GUTIERREZ</td>\n",
       "      <td>BK-R93R-48</td>\n",
       "      <td>Plants</td>\n",
       "      <td>1</td>\n",
       "      <td>1.0</td>\n",
       "      <td>2171.2942</td>\n",
       "      <td>3578.2700</td>\n",
       "      <td>2020-03-01</td>\n",
       "      <td>Google-ads</td>\n",
       "      <td>Y3541188796364090</td>\n",
       "      <td>False</td>\n",
       "      <td>CREDITCARD</td>\n",
       "      <td>VISA</td>\n",
       "      <td>M</td>\n",
       "    </tr>\n",
       "    <tr>\n",
       "      <th>9</th>\n",
       "      <td>SO45090</td>\n",
       "      <td>Southwest</td>\n",
       "      <td>United States</td>\n",
       "      <td>29170</td>\n",
       "      <td>ALEXANDRA ADAMS</td>\n",
       "      <td>BK-R93R-62</td>\n",
       "      <td>Plants</td>\n",
       "      <td>1</td>\n",
       "      <td>1.0</td>\n",
       "      <td>2171.2942</td>\n",
       "      <td>3578.2700</td>\n",
       "      <td>2020-03-01</td>\n",
       "      <td>Yt-Campaign</td>\n",
       "      <td>F5689640947178158</td>\n",
       "      <td>False</td>\n",
       "      <td>CREDITCARD</td>\n",
       "      <td>VISA</td>\n",
       "      <td>M</td>\n",
       "    </tr>\n",
       "  </tbody>\n",
       "</table>\n",
       "</div>"
      ],
      "text/plain": [
       "   OrderID          Region         Country CustID       Customer_Name  \\\n",
       "0  SO45080       Northwest   United States  14657         JOHN THOMAS   \n",
       "1  SO45079       Southwest   United States  29255     KYLE WASHINGTON   \n",
       "2  SO45082       Australia       Australia  11455           ROSS SANZ   \n",
       "3  SO45081          Canada          Canada  26782          SETH LEWIS   \n",
       "4  SO45083  United Kingdom  United Kingdom  14947      ALEJANDRO CHEN   \n",
       "5  SO45084       Southwest   United States  29143       GRACE JENKINS   \n",
       "6  SO45086       Australia       Australia  18747      JACQUELYN DIAZ   \n",
       "7  SO45085       Australia       Australia  18746    REGINALD ALVAREZ   \n",
       "8  SO45093       Australia       Australia  18906  ADRIENNE GUTIERREZ   \n",
       "9  SO45090       Southwest   United States  29170     ALEXANDRA ADAMS   \n",
       "\n",
       "   ProductSKU Product_Category  OrderLineItem  OrderQuantity  ProductCost  \\\n",
       "0  BK-R50B-58           Plants              1            1.0     413.1463   \n",
       "1  BK-R93R-48           Plants              1            1.0    2171.2942   \n",
       "2  BK-M82B-44           Plants              1            1.0    1898.0944   \n",
       "3  BK-R50B-44           Plants              1            1.0     413.1463   \n",
       "4  BK-R93R-48           Plants              1            1.0    2171.2942   \n",
       "5  BK-R93R-62           Plants              1            1.0    2171.2942   \n",
       "6  BK-R93R-56           Plants              1            1.0    2171.2942   \n",
       "7  BK-R93R-48           Plants              1            1.0    2171.2942   \n",
       "8  BK-R93R-48           Plants              1            1.0    2171.2942   \n",
       "9  BK-R93R-62           Plants              1            1.0    2171.2942   \n",
       "\n",
       "   ProductPrice   OrderDate AcquisitionSource      TransactionID  Fraud  \\\n",
       "0      699.0982  2020-01-01          Meta-ads  I4127227587819694  False   \n",
       "1     3578.2700  2020-01-01        Google-ads  E9525730529761877  False   \n",
       "2     3374.9900  2020-01-01        Google-ads  Z6376643485803420  False   \n",
       "3      699.0982  2020-01-01        Google-ads  R8609290025411138  False   \n",
       "4     3578.2700  2020-02-01          Meta-ads  Y9572700698484288  False   \n",
       "5     3578.2700  2020-02-01       Yt-Campaign  W9847720367646182  False   \n",
       "6     3578.2700  2020-02-01        Google-ads  U5867366267578316  False   \n",
       "7     3578.2700  2020-02-01        Google-ads  K2049522469066731  False   \n",
       "8     3578.2700  2020-03-01        Google-ads  Y3541188796364090  False   \n",
       "9     3578.2700  2020-03-01       Yt-Campaign  F5689640947178158  False   \n",
       "\n",
       "  PaymentMethod  CardType Gender  \n",
       "0    CREDITCARD  DISCOVER      M  \n",
       "1    CREDITCARD        MC      M  \n",
       "2    CREDITCARD      VISA      M  \n",
       "3    CREDITCARD      VISA      M  \n",
       "4    CREDITCARD      VISA      M  \n",
       "5    CREDITCARD        MC      M  \n",
       "6    CREDITCARD      VISA      M  \n",
       "7    CREDITCARD        MC      M  \n",
       "8    CREDITCARD      VISA      M  \n",
       "9    CREDITCARD      VISA      M  "
      ]
     },
     "execution_count": 8,
     "metadata": {},
     "output_type": "execute_result"
    }
   ],
   "source": [
    "df.head(10)"
   ]
  },
  {
   "cell_type": "code",
   "execution_count": null,
   "metadata": {},
   "outputs": [],
   "source": []
  },
  {
   "cell_type": "markdown",
   "metadata": {},
   "source": [
    "## Rentabilite des compagnes marketing"
   ]
  },
  {
   "cell_type": "code",
   "execution_count": 9,
   "metadata": {},
   "outputs": [],
   "source": [
    "#on dpoit calculer la rentabilité des compagnes de marketing(on veut savoir si  ces compagnes séduisent les clients ou bien il finissent à la poubelle)\n",
    "#rentabilité=Profit total | Nbr_client\n",
    "#Profit=ProductPrice - ProductCost\n",
    "df['Profit']=df['ProductPrice'] - df['ProductCost']\n",
    "#on doit agréger les données par acquisistion source\n",
    "profibility=df.groupby('AcquisitionSource').agg(totalProfit=('Profit','sum'), total_client=('CustID','nunique')).reset_index()"
   ]
  },
  {
   "cell_type": "code",
   "execution_count": 10,
   "metadata": {},
   "outputs": [],
   "source": [
    "profibility['rentabilité']=profibility['totalProfit'] / profibility['total_client']"
   ]
  },
  {
   "cell_type": "code",
   "execution_count": 11,
   "metadata": {},
   "outputs": [
    {
     "data": {
      "text/html": [
       "<div>\n",
       "<style scoped>\n",
       "    .dataframe tbody tr th:only-of-type {\n",
       "        vertical-align: middle;\n",
       "    }\n",
       "\n",
       "    .dataframe tbody tr th {\n",
       "        vertical-align: top;\n",
       "    }\n",
       "\n",
       "    .dataframe thead th {\n",
       "        text-align: right;\n",
       "    }\n",
       "</style>\n",
       "<table border=\"1\" class=\"dataframe\">\n",
       "  <thead>\n",
       "    <tr style=\"text-align: right;\">\n",
       "      <th></th>\n",
       "      <th>AcquisitionSource</th>\n",
       "      <th>totalProfit</th>\n",
       "      <th>total_client</th>\n",
       "      <th>rentabilité</th>\n",
       "    </tr>\n",
       "  </thead>\n",
       "  <tbody>\n",
       "    <tr>\n",
       "      <th>0</th>\n",
       "      <td>Google-ads</td>\n",
       "      <td>8.177054e+06</td>\n",
       "      <td>19240</td>\n",
       "      <td>425.002826</td>\n",
       "    </tr>\n",
       "    <tr>\n",
       "      <th>1</th>\n",
       "      <td>Meta-ads</td>\n",
       "      <td>1.060606e+06</td>\n",
       "      <td>4905</td>\n",
       "      <td>216.229633</td>\n",
       "    </tr>\n",
       "    <tr>\n",
       "      <th>2</th>\n",
       "      <td>Yt-Campaign</td>\n",
       "      <td>1.021111e+06</td>\n",
       "      <td>4921</td>\n",
       "      <td>207.500748</td>\n",
       "    </tr>\n",
       "  </tbody>\n",
       "</table>\n",
       "</div>"
      ],
      "text/plain": [
       "  AcquisitionSource   totalProfit  total_client  rentabilité\n",
       "0        Google-ads  8.177054e+06         19240   425.002826\n",
       "1          Meta-ads  1.060606e+06          4905   216.229633\n",
       "2       Yt-Campaign  1.021111e+06          4921   207.500748"
      ]
     },
     "execution_count": 11,
     "metadata": {},
     "output_type": "execute_result"
    }
   ],
   "source": [
    "profibility"
   ]
  },
  {
   "cell_type": "code",
   "execution_count": 12,
   "metadata": {},
   "outputs": [
    {
     "data": {
      "text/html": [
       "<div>\n",
       "<style scoped>\n",
       "    .dataframe tbody tr th:only-of-type {\n",
       "        vertical-align: middle;\n",
       "    }\n",
       "\n",
       "    .dataframe tbody tr th {\n",
       "        vertical-align: top;\n",
       "    }\n",
       "\n",
       "    .dataframe thead th {\n",
       "        text-align: right;\n",
       "    }\n",
       "</style>\n",
       "<table border=\"1\" class=\"dataframe\">\n",
       "  <thead>\n",
       "    <tr style=\"text-align: right;\">\n",
       "      <th></th>\n",
       "      <th>AcquisitionSource</th>\n",
       "      <th>rentabilité</th>\n",
       "    </tr>\n",
       "  </thead>\n",
       "  <tbody>\n",
       "    <tr>\n",
       "      <th>0</th>\n",
       "      <td>Google-ads</td>\n",
       "      <td>425.002826</td>\n",
       "    </tr>\n",
       "    <tr>\n",
       "      <th>1</th>\n",
       "      <td>Meta-ads</td>\n",
       "      <td>216.229633</td>\n",
       "    </tr>\n",
       "    <tr>\n",
       "      <th>2</th>\n",
       "      <td>Yt-Campaign</td>\n",
       "      <td>207.500748</td>\n",
       "    </tr>\n",
       "  </tbody>\n",
       "</table>\n",
       "</div>"
      ],
      "text/plain": [
       "  AcquisitionSource  rentabilité\n",
       "0        Google-ads   425.002826\n",
       "1          Meta-ads   216.229633\n",
       "2       Yt-Campaign   207.500748"
      ]
     },
     "execution_count": 12,
     "metadata": {},
     "output_type": "execute_result"
    }
   ],
   "source": [
    "profibility[['AcquisitionSource','rentabilité']]"
   ]
  },
  {
   "cell_type": "markdown",
   "metadata": {},
   "source": [
    "donc on peut dire que Google_ads est la meilleure parmi les autres compagnes de marketing puisqu'elle nous donne une rentabilité de 425 par utilisateur"
   ]
  },
  {
   "cell_type": "code",
   "execution_count": 13,
   "metadata": {},
   "outputs": [
    {
     "data": {
      "image/png": "[encoded data removed]",
      "text/plain": [
       "<Figure size 720x432 with 1 Axes>"
      ]
     },
     "metadata": {
      "needs_background": "light"
     },
     "output_type": "display_data"
    }
   ],
   "source": [
    "import seaborn as sns\n",
    "import matplotlib.pyplot as plt\n",
    "import pandas as pd\n",
    "\n",
    "\n",
    "# Créer un bar chart avec Seaborn\n",
    "plt.figure(figsize=(10, 6))\n",
    "sns.barplot(x='AcquisitionSource', y='rentabilité', data=profibility, palette='viridis')\n",
    "\n",
    "# Ajouter des titres\n",
    "plt.title('Rentabilité par Utilisateur pour chaque Campagne Marketing')\n",
    "plt.xlabel('Source d\\'Acquisition')\n",
    "plt.ylabel('Rentabilité (en $)')\n",
    "\n",
    "# Afficher le graphique\n",
    "plt.show()\n"
   ]
  },
  {
   "cell_type": "code",
   "execution_count": 25,
   "metadata": {},
   "outputs": [
    {
     "data": {
      "image/png": "[encoded data removed]",
      "text/plain": [
       "<Figure size 720x432 with 1 Axes>"
      ]
     },
     "metadata": {
      "needs_background": "light"
     },
     "output_type": "display_data"
    }
   ],
   "source": [
    "import matplotlib.pyplot as plt\n",
    "\n",
    "x=profibility['AcquisitionSource']\n",
    "y=profibility['rentabilité']\n",
    "colors=['hotpink','yellow','green']\n",
    "plt.figure(figsize=(10, 6))\n",
    "plt.bar(x,y,color=colors)\n",
    "plt.title('Rentabilité par Utilisateur pour chaque Campagne Marketing')\n",
    "plt.xlabel('Source d\\'Acquisition')\n",
    "plt.ylabel('Rentabilité (en $)')\n",
    "\n",
    "# Afficher le graphique\n",
    "plt.show()\n"
   ]
  },
  {
   "cell_type": "code",
   "execution_count": 14,
   "metadata": {},
   "outputs": [
    {
     "data": {
      "image/png": "[encoded data removed]",
      "text/plain": [
       "<Figure size 720x720 with 1 Axes>"
      ]
     },
     "metadata": {},
     "output_type": "display_data"
    }
   ],
   "source": [
    "\n",
    "\n",
    "y=profibility['rentabilité']\n",
    "mylabels=['Google-ads','Meta-ads','Yt-Campaign']\n",
    "mycolors=['hotpink','yellow','green']\n",
    "myexplodes=[0.2,0,0]\n",
    "plt.figure(figsize=(10, 10))\n",
    "plt.pie(y,labels=mylabels,colors=mycolors,explode=myexplodes,shadow=True)\n",
    "plt.title('Rentabilité par Utilisateur pour chaque Campagne Marketing',pad=40)\n",
    "plt.legend()\n",
    "\n",
    "\n",
    "# Afficher le graphique\n",
    "plt.show()\n"
   ]
  },
  {
   "cell_type": "markdown",
   "metadata": {},
   "source": [
    "# Taux de conversion et CAC"
   ]
  },
  {
   "cell_type": "code",
   "execution_count": 22,
   "metadata": {},
   "outputs": [],
   "source": [
    "#Taux de conversion : une conversion se produit lorsque une peronne simple visiteur passe à un statut d'un clientou utilisateur actif\n",
    "#Eg: taux _conversion=Nbr_conversion\\nbr visiteur\n"
   ]
  },
  {
   "cell_type": "code",
   "execution_count": 20,
   "metadata": {},
   "outputs": [],
   "source": [
    "segmentation_Ac=df.groupby('AcquisitionSource').size()"
   ]
  },
  {
   "cell_type": "code",
   "execution_count": 21,
   "metadata": {},
   "outputs": [
    {
     "name": "stdout",
     "output_type": "stream",
     "text": [
      "AcquisitionSource\n",
      "Google-ads     44650\n",
      "Meta-ads        5618\n",
      "Yt-Campaign     5642\n",
      "dtype: int64\n"
     ]
    }
   ],
   "source": [
    "print(segmentation_Ac)"
   ]
  },
  {
   "cell_type": "code",
   "execution_count": 24,
   "metadata": {},
   "outputs": [
    {
     "name": "stdout",
     "output_type": "stream",
     "text": [
      "AcquisitionSource\n",
      "Google-ads     1.875572\n",
      "Meta-ads       1.112334\n",
      "Yt-Campaign    1.116033\n",
      "dtype: float64\n"
     ]
    }
   ],
   "source": [
    "nbr_conversion=df.groupby('AcquisitionSource')['TransactionID'].nunique()\n",
    "nbr_customers=df.groupby('AcquisitionSource')['CustID'].nunique()\n",
    "Taux_conversion=nbr_conversion/nbr_customers\n",
    "print(Taux_conversion)"
   ]
  },
  {
   "cell_type": "code",
   "execution_count": 25,
   "metadata": {},
   "outputs": [
    {
     "name": "stdout",
     "output_type": "stream",
     "text": [
      "AcquisitionSource\n",
      "Google-ads     593.240240\n",
      "Meta-ads       301.915760\n",
      "Yt-Campaign    289.803256\n",
      "dtype: float64\n"
     ]
    }
   ],
   "source": [
    "#CAC:le cout que l entreprise doit dépenser pour acqueriir un client\n",
    "#nrmlmt : CAC=(cost of sales + cost of Marketing) / number of new customers\n",
    "#ici on a pas cost of marketin!!!!\n",
    "total_cost=df.groupby('AcquisitionSource')['ProductCost'].sum()\n",
    "nbr_customers=df.groupby('AcquisitionSource')['CustID'].nunique()\n",
    "\n",
    "CAC=total_cost / nbr_customers\n",
    "print(CAC)"
   ]
  },
  {
   "cell_type": "code",
   "execution_count": 26,
   "metadata": {},
   "outputs": [
    {
     "ename": "NameError",
     "evalue": "name 'conversion_rate' is not defined",
     "output_type": "error",
     "traceback": [
      "\u001b[1;31m---------------------------------------------------------------------------\u001b[0m",
      "\u001b[1;31mNameError\u001b[0m                                 Traceback (most recent call last)",
      "\u001b[1;32m<ipython-input-26-64e058bc1c91>\u001b[0m in \u001b[0;36m<module>\u001b[1;34m\u001b[0m\n\u001b[0;32m      1\u001b[0m \u001b[1;31m# Comparer le CAC et les taux de conversion pour identifier la source la plus rentable\u001b[0m\u001b[1;33m\u001b[0m\u001b[1;33m\u001b[0m\u001b[1;33m\u001b[0m\u001b[0m\n\u001b[0;32m      2\u001b[0m profitability = pd.DataFrame({\n\u001b[1;32m----> 3\u001b[1;33m     \u001b[1;34m'Conversion Rate'\u001b[0m\u001b[1;33m:\u001b[0m \u001b[0mconversion_rate\u001b[0m\u001b[1;33m,\u001b[0m\u001b[1;33m\u001b[0m\u001b[1;33m\u001b[0m\u001b[0m\n\u001b[0m\u001b[0;32m      4\u001b[0m     \u001b[1;34m'CAC'\u001b[0m\u001b[1;33m:\u001b[0m \u001b[0mcac\u001b[0m\u001b[1;33m\u001b[0m\u001b[1;33m\u001b[0m\u001b[0m\n\u001b[0;32m      5\u001b[0m })\n",
      "\u001b[1;31mNameError\u001b[0m: name 'conversion_rate' is not defined"
     ]
    }
   ],
   "source": [
    "# Comparer le CAC et les taux de conversion pour identifier la source la plus rentable\n",
    "profitability = pd.DataFrame({\n",
    "    'Conversion Rate': conversion_rate,\n",
    "    'CAC': cac\n",
    "})\n",
    "\n",
    "print(profitability)\n",
    "\n",
    "# Identifier la source la plus rentable : bas taux de CAC et haut taux de conversion\n",
    "most_profitable = profitability.sort_values(by=['CAC', 'Conversion Rate'], ascending=[True, False])\n",
    "print(most_profitable)\n",
    "\n",
    "\n",
    "\n",
    "import matplotlib.pyplot as plt\n",
    "\n",
    "# Créer un diagramme en barres pour comparer les CAC et les taux de conversion\n",
    "fig, ax1 = plt.subplots()\n",
    "\n",
    "ax2 = ax1.twinx()\n",
    "profitability['CAC'].plot(kind='bar', color='orange', ax=ax1, position=0, width=0.4)\n",
    "profitability['Conversion Rate'].plot(kind='bar', color='blue', ax=ax2, position=1, width=0.4)\n",
    "\n",
    "ax1.set_ylabel('CAC')\n",
    "ax2.set_ylabel('Taux de Conversion')\n",
    "\n",
    "plt.title(\"Comparaison des CAC et Taux de Conversion par Source d'Acquisition\")\n",
    "plt.show()\n"
   ]
  },
  {
   "cell_type": "code",
   "execution_count": 28,
   "metadata": {},
   "outputs": [
    {
     "name": "stdout",
     "output_type": "stream",
     "text": [
      "                   Taux_conversion         CAC\n",
      "AcquisitionSource                             \n",
      "Google-ads                1.875572  593.240240\n",
      "Meta-ads                  1.112334  301.915760\n",
      "Yt-Campaign               1.116033  289.803256\n",
      "                   Taux_conversion         CAC\n",
      "AcquisitionSource                             \n",
      "Yt-Campaign               1.116033  289.803256\n",
      "Meta-ads                  1.112334  301.915760\n",
      "Google-ads                1.875572  593.240240\n"
     ]
    }
   ],
   "source": [
    "# Comparer le CAC et les taux de conversion pour identifier la source la plus rentable\n",
    "profitability = pd.DataFrame({\n",
    "    'Taux_conversion': Taux_conversion,\n",
    "    'CAC': CAC\n",
    "})\n",
    "\n",
    "print(profitability)\n",
    "\n",
    "# Identifier la source la plus rentable : bas taux de CAC et haut taux de conversion\n",
    "most_profitable = profitability.sort_values(by=['CAC', 'Taux_conversion'], ascending=[True, False])\n",
    "print(most_profitable)"
   ]
  },
  {
   "cell_type": "code",
   "execution_count": 33,
   "metadata": {},
   "outputs": [
    {
     "data": {
      "image/png": "[encoded data removed]",
      "text/plain": [
       "<Figure size 432x288 with 2 Axes>"
      ]
     },
     "metadata": {
      "needs_background": "light"
     },
     "output_type": "display_data"
    }
   ],
   "source": [
    "import matplotlib.pyplot as plt\n",
    "\n",
    "# Créer un diagramme en barres pour comparer les CAC et les taux de conversion\n",
    "fig, ax1 = plt.subplots()\n",
    "\n",
    "ax2 = ax1.twinx()\n",
    "profitability['CAC'].plot(kind='bar', color='orange', ax=ax1, position=0, width=0.4)\n",
    "profitability['Taux_conversion'].plot(kind='bar', color='blue', ax=ax2, position=1, width=0.4)\n",
    "\n",
    "ax1.set_ylabel('CAC')\n",
    "ax2.set_ylabel('Taux de Conversion')\n",
    "\n",
    "plt.title(\"Comparaison des CAC et Taux de Conversion par Source d'Acquisition\",pad=30)\n",
    "plt.show()\n"
   ]
  },
  {
   "cell_type": "code",
   "execution_count": 39,
   "metadata": {},
   "outputs": [
    {
     "name": "stdout",
     "output_type": "stream",
     "text": [
      "  AcquisitionSource        Budget  Nbr_Customers\n",
      "0        Google-ads  1.141394e+07          19240\n",
      "1          Meta-ads  1.480897e+06           4905\n",
      "2       Yt-Campaign  1.426122e+06           4921\n"
     ]
    }
   ],
   "source": [
    "#total_cost=df.groupby('AcquisitionSource')['ProductCost'].sum()\n",
    "#nbr_customers=df.groupby('AcquisitionSource')['CustID'].nunique()\n",
    "\n",
    "\n",
    "# Exemple de DataFrame existante (df)\n",
    "# df = pd.read_csv('path_to_your_data.csv')  # Charger votre DataFrame ici si nécessaire\n",
    "\n",
    "# Calcul du coût total par source d'acquisition\n",
    "total_cost = df.groupby('AcquisitionSource')['ProductCost'].sum()\n",
    "\n",
    "# Calcul du nombre de clients uniques par source d'acquisition\n",
    "nbr_customers = df.groupby('AcquisitionSource')['CustID'].nunique()\n",
    "\n",
    "# Création de la nouvelle DataFrame de segmentation\n",
    "segmentation_df = pd.DataFrame({\n",
    "    'Budget': total_cost,\n",
    "    'Nbr_Customers': nbr_customers\n",
    "}).reset_index()\n",
    "\n",
    "# Affichage de la DataFrame de segmentation\n",
    "print(segmentation_df)\n"
   ]
  },
  {
   "cell_type": "code",
   "execution_count": 43,
   "metadata": {},
   "outputs": [
    {
     "data": {
      "text/plain": [
       "<matplotlib.collections.PathCollection at 0x20cbefd23c8>"
      ]
     },
     "execution_count": 43,
     "metadata": {},
     "output_type": "execute_result"
    },
    {
     "data": {
      "image/png": "[encoded data removed]",
      "text/plain": [
       "<Figure size 432x288 with 1 Axes>"
      ]
     },
     "metadata": {
      "needs_background": "light"
     },
     "output_type": "display_data"
    }
   ],
   "source": [
    "#regression lineare pour prédir le nombre de clinet en fct de budget\n",
    "from sklearn import linear_model\n",
    "#voir la distribution des donné\n",
    "%matplotlib inline\n",
    "plt.xlabel('Budget')\n",
    "plt.ylabel('Nbr_Customers')\n",
    "plt.scatter(segmentation_df['Budget'],segmentation_df['Nbr_Customers'])"
   ]
  },
  {
   "cell_type": "code",
   "execution_count": 44,
   "metadata": {},
   "outputs": [
    {
     "name": "stdout",
     "output_type": "stream",
     "text": [
      "  AcquisitionSource        Budget  Nbr_Customers\n",
      "0        Google-ads  1.141394e+07          19240\n",
      "1          Meta-ads  1.480897e+06           4905\n",
      "2       Yt-Campaign  1.426122e+06           4921\n"
     ]
    },
    {
     "data": {
      "image/png": "[encoded data removed]",
      "text/plain": [
       "<Figure size 432x288 with 1 Axes>"
      ]
     },
     "metadata": {
      "needs_background": "light"
     },
     "output_type": "display_data"
    },
    {
     "name": "stdout",
     "output_type": "stream",
     "text": [
      "Intercept: 2822.4722151481365\n",
      "Coefficient: [0.00143835]\n"
     ]
    }
   ],
   "source": [
    "import pandas as pd\n",
    "import matplotlib.pyplot as plt\n",
    "from sklearn import linear_model\n",
    "\n",
    "# Exemple de DataFrame existante (df)\n",
    "# df = pd.read_csv('path_to_your_data.csv')  # Charger votre DataFrame ici si nécessaire\n",
    "\n",
    "# Calcul du coût total par source d'acquisition\n",
    "total_cost = df.groupby('AcquisitionSource')['ProductCost'].sum()\n",
    "\n",
    "# Calcul du nombre de clients uniques par source d'acquisition\n",
    "nbr_customers = df.groupby('AcquisitionSource')['CustID'].nunique()\n",
    "\n",
    "# Création de la nouvelle DataFrame de segmentation\n",
    "segmentation_df = pd.DataFrame({\n",
    "    'Budget': total_cost,\n",
    "    'Nbr_Customers': nbr_customers\n",
    "}).reset_index()\n",
    "\n",
    "# Affichage de la DataFrame de segmentation\n",
    "print(segmentation_df)\n",
    "\n",
    "# Visualisation des données\n",
    "plt.scatter(segmentation_df['Budget'], segmentation_df['Nbr_Customers'], color='blue')\n",
    "\n",
    "# Annoter les points\n",
    "for i in range(segmentation_df.shape[0]):\n",
    "    plt.annotate(segmentation_df['AcquisitionSource'][i], \n",
    "                 (segmentation_df['Budget'][i], segmentation_df['Nbr_Customers'][i]),\n",
    "                 textcoords=\"offset points\", \n",
    "                 xytext=(0,10), \n",
    "                 ha='center')\n",
    "\n",
    "# Utiliser une échelle logarithmique pour l'axe des x\n",
    "plt.xscale('log')\n",
    "\n",
    "plt.xlabel('Budget')\n",
    "plt.ylabel('Nbr_Customers')\n",
    "plt.title('Relation entre le Budget et le Nombre de Clients')\n",
    "plt.show()\n",
    "\n",
    "# Régression linéaire pour prédire le nombre de clients en fonction du budget\n",
    "# Préparation des données\n",
    "X = segmentation_df[['Budget']]  # Caractéristiques (Budget)\n",
    "y = segmentation_df['Nbr_Customers']  # Cible (Nbr_Customers)\n",
    "\n",
    "# Création et ajustement du modèle de régression linéaire\n",
    "model = linear_model.LinearRegression()\n",
    "model.fit(X, y)\n",
    "\n",
    "# Affichage des coefficients\n",
    "print(f'Intercept: {model.intercept_}')\n",
    "print(f'Coefficient: {model.coef_}')\n"
   ]
  },
  {
   "cell_type": "markdown",
   "metadata": {},
   "source": [
    "1. Intercept (Intercept : 2822.47)\n",
    "Signification : L’intercept représente la valeur prédite de la variable dépendante (dans ton cas, Nbr_Customers) lorsque la variable indépendante (ici, Budget) est égale à zéro.\n",
    "Interprétation : Dans ce cas, cela signifie que si le budget est de zéro, le modèle prédit qu'il y aurait environ 2822.47 clients. Cela peut sembler peu intuitif, car il est peu probable d'avoir un budget de zéro dans la réalité, mais cela donne une base de référence pour la régression.\n",
    "2. Coefficient (Coefficient : [0.00143835])\n",
    "Signification : Le coefficient représente la variation attendue de la variable dépendante pour chaque unité d’augmentation de la variable indépendante.\n",
    "Interprétation : Dans ton modèle, pour chaque augmentation de 1 unité du Budget, le nombre de Nbr_Customers augmente d’environ 0.00143835 clients. Cela signifie qu'un budget supplémentaire d'une unité est associé à une très légère augmentation du nombre de clients.\n",
    "3. Implications Pratiques\n",
    "Sensibilité au budget : Le faible coefficient indique que l'augmentation du budget n'a qu'un impact marginal sur l'acquisition de nouveaux clients. Cela peut suggérer que d'autres facteurs influencent également le nombre de clients, ou que l'impact du budget est non linéaire à ce niveau.\n",
    "Planification budgétaire : Lorsque tu envisages d'augmenter le budget publicitaire, il est important de considérer que chaque unité supplémentaire pourrait ne pas conduire à une augmentation significative des clients. Cela pourrait t'amener à explorer d'autres canaux ou stratégies d'acquisition."
   ]
  },
  {
   "cell_type": "code",
   "execution_count": 45,
   "metadata": {},
   "outputs": [
    {
     "data": {
      "image/png": "[encoded data removed]",
      "text/plain": [
       "<Figure size 432x288 with 1 Axes>"
      ]
     },
     "metadata": {
      "needs_background": "light"
     },
     "output_type": "display_data"
    }
   ],
   "source": [
    "#comparer les données réeles et prédites\n",
    "\n",
    "\n",
    "import numpy as np\n",
    "\n",
    "# Prédictions du modèle\n",
    "segmentation_df['Predicted_Customers'] = model.predict(X)\n",
    "\n",
    "# Tracer les données réelles et les prédictions\n",
    "plt.scatter(segmentation_df['Budget'], segmentation_df['Nbr_Customers'], color='blue', label='Données réelles')\n",
    "plt.plot(segmentation_df['Budget'], segmentation_df['Predicted_Customers'], color='red', label='Prédictions du modèle')\n",
    "plt.xscale('log')\n",
    "plt.xlabel('Budget')\n",
    "plt.ylabel('Nbr_Customers')\n",
    "plt.title('Relation entre le Budget et le Nombre de Clients avec Régression Linéaire')\n",
    "plt.legend()\n",
    "plt.show()\n"
   ]
  },
  {
   "cell_type": "markdown",
   "metadata": {},
   "source": [
    "# Rapport d'Analyse des Campagnes Marketing"
   ]
  },
  {
   "cell_type": "markdown",
   "metadata": {},
   "source": [
    "## Introduction\n",
    "\n",
    "L'objectif de cette analyse est d'évaluer la rentabilité des campagnes marketing, d'examiner le taux de conversion et le coût d'acquisition client (CAC), puis de faire des recommandations basées sur les résultats."
   ]
  },
  {
   "cell_type": "markdown",
   "metadata": {},
   "source": [
    "1) Résultats de Rentabilité:"
   ]
  },
  {
   "cell_type": "markdown",
   "metadata": {},
   "source": [
    "Google-ads présente la meilleure rentabilité avec 425 $ par utilisateur, ce qui indique que cette campagne attire efficacement les clients par rapport aux autres."
   ]
  },
  {
   "cell_type": "markdown",
   "metadata": {},
   "source": [
    "2) Taux de Conversion et Coût d'Acquisition Client (CAC)"
   ]
  },
  {
   "cell_type": "markdown",
   "metadata": {},
   "source": [
    "Google-ads a le taux de conversion le plus élevé, mais son CAC est également le plus élevé.\n",
    "Yt-Campaign a le CAC le plus bas avec un taux de conversion compétitif, ce qui peut indiquer une meilleure efficacité coût-efficacité."
   ]
  },
  {
   "cell_type": "markdown",
   "metadata": {},
   "source": [
    "Si ton objectif est d’augmenter les conversions rapidement : Google Ads pourrait être un meilleur choix. Bien que son CAC (Coût d'Acquisition Client) soit élevé, le taux de conversion plus élevé pourrait compenser cela, surtout si l'entreprise a besoin d'un volume de ventes élevé à court terme.\n",
    "Si ton objectif est de réduire les coûts et d’optimiser l’efficacité du budget : YouTube Campaign serait l’option la plus avantageuse. Avec son CAC plus bas et un"
   ]
  },
  {
   "cell_type": "markdown",
   "metadata": {},
   "source": [
    "Allouer une partie du budget à Google Ads pour bénéficier du taux de conversion élevé tout en conservant une autre partie pour YouTube Campaign, qui maintient un CAC bas. Cela te permettrait d’équilibrer le coût total tout en maximisant le volume de conversions.\n",
    "Effectuer des tests A/B en ajustant les budgets pour voir laquelle des campagnes offre le meilleur ROI à mesure que tu optimises."
   ]
  },
  {
   "cell_type": "markdown",
   "metadata": {},
   "source": [
    "3) Analyse de Régression lineare a été effectuée pour prédir le nbr de nouvaux clients en fonction du budget\n",
    "\n",
    "Pour chaque augmentation d'une unité de budget le nombre de clients augmente d 'environ 0,0014385 , ce qui signifie q'un bugdget supplémentaire d'une unité est associé à une trés grande légére augmentation de clients \n",
    "Donc il faut explorer d autres stratégies d'acquisition"
   ]
  },
  {
   "cell_type": "raw",
   "metadata": {},
   "source": [
    " Part 1: L'Aventure Data Commence ! 🎯\n",
    "\n",
    "Salut les data lovers ! 🌍\n",
    "\n",
    "Je viens de terminer la première partie d’un projet hyper excitant ! Vous avez déjà pensé à comment répartir le budget marketing pour maximiser le nombre de clients ? 💰➡️👥\n",
    "\n",
    "Eh bien, c'est exactement ce que j'explore dans ce projet : comprendre les secrets derrière les chiffres pour booster les performances ! 📊\n",
    "\n",
    "🔍 Spoiler Alert : Ce n’est que le début ! La suite promet encore plus d’analyses et d'astuces pour optimiser les campagnes. Préparez-vous à en apprendre davantage dans les prochaines étapes ! 🎯\n",
    "\n",
    "✨ Stay tuned pour la suite de cette aventure !\n",
    "\n",
    "\n",
    "Name :Ikram Misbah\n",
    "Gmail: ikrammisbah65@gmail.com\n",
    "LinkdIN: www.linkedin.com/in/ikram-misbah-348314232"
   ]
  },
  {
   "cell_type": "code",
   "execution_count": null,
   "metadata": {},
   "outputs": [],
   "source": []
  }
 ],
 "metadata": {
  "kernelspec": {
   "display_name": "Python 3",
   "language": "python",
   "name": "python3"
  },
  "language_info": {
   "codemirror_mode": {
    "name": "ipython",
    "version": 3
   },
   "file_extension": ".py",
   "mimetype": "text/x-python",
   "name": "python",
   "nbconvert_exporter": "python",
   "pygments_lexer": "ipython3",
   "version": "3.7.6"
  }
 },
 "nbformat": 4,
 "nbformat_minor": 4
}
